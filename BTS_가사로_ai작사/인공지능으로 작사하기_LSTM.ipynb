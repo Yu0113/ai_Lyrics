{
 "cells": [
  {
   "cell_type": "code",
   "execution_count": 1,
   "metadata": {},
   "outputs": [],
   "source": [
    "import keras\n",
    "import numpy as np\n",
    "from keras import layers\n",
    "import random\n",
    "import sys\n",
    "import pandas as pd\n",
    "from keras.models import Sequential\n",
    "from keras.layers import Dense, Activation, Dropout\n",
    "from keras.layers import LSTM\n",
    "from keras.optimizers import RMSprop\n",
    "import codecs\n",
    "import re"
   ]
  },
  {
   "cell_type": "code",
   "execution_count": 57,
   "metadata": {},
   "outputs": [],
   "source": [
    "txt=pd.read_csv(\"방탄소년단.txt\")"
   ]
  },
  {
   "cell_type": "code",
   "execution_count": 58,
   "metadata": {},
   "outputs": [],
   "source": [
    "df=pd.DataFrame(txt,columns=['singer','song','lyrics','lyricist'])"
   ]
  },
  {
   "cell_type": "code",
   "execution_count": 59,
   "metadata": {},
   "outputs": [],
   "source": [
    "# 데이터 전처리(Null값 제거)\n",
    "b=df[df['lyrics']==\"[]\"].index\n",
    "df=df.drop(b)"
   ]
  },
  {
   "cell_type": "code",
   "execution_count": 60,
   "metadata": {},
   "outputs": [
    {
     "data": {
      "text/html": [
       "<div>\n",
       "<style scoped>\n",
       "    .dataframe tbody tr th:only-of-type {\n",
       "        vertical-align: middle;\n",
       "    }\n",
       "\n",
       "    .dataframe tbody tr th {\n",
       "        vertical-align: top;\n",
       "    }\n",
       "\n",
       "    .dataframe thead th {\n",
       "        text-align: right;\n",
       "    }\n",
       "</style>\n",
       "<table border=\"1\" class=\"dataframe\">\n",
       "  <thead>\n",
       "    <tr style=\"text-align: right;\">\n",
       "      <th></th>\n",
       "      <th>singer</th>\n",
       "      <th>song</th>\n",
       "      <th>lyrics</th>\n",
       "      <th>lyricist</th>\n",
       "    </tr>\n",
       "  </thead>\n",
       "  <tbody>\n",
       "    <tr>\n",
       "      <th>0</th>\n",
       "      <td>방탄소년단</td>\n",
       "      <td>Dynamite (Holiday Remix)</td>\n",
       "      <td>[Cos ah ah I’m in the stars tonight\\n\\nShoes o...</td>\n",
       "      <td>David Stewart</td>\n",
       "    </tr>\n",
       "    <tr>\n",
       "      <th>1</th>\n",
       "      <td>방탄소년단</td>\n",
       "      <td>Life Goes On</td>\n",
       "      <td>[어느 날 세상이 멈췄어\\n아무런 예고도 하나 없이\\n봄은 기다림을 몰라서\\n눈치 ...</td>\n",
       "      <td>Pdogg</td>\n",
       "    </tr>\n",
       "    <tr>\n",
       "      <th>2</th>\n",
       "      <td>방탄소년단</td>\n",
       "      <td>내 방을 여행하는 법</td>\n",
       "      <td>[떠나볼까 let me fly to my\\n시선을 낮추고 어디든 막 zoom\\n지금...</td>\n",
       "      <td>Cosmo's Midnight</td>\n",
       "    </tr>\n",
       "    <tr>\n",
       "      <th>3</th>\n",
       "      <td>방탄소년단</td>\n",
       "      <td>Blue &amp; Grey</td>\n",
       "      <td>[Where is my angel\\n하루의 끝을 드리운\\nSomeone come a...</td>\n",
       "      <td>Jisoo Park (153/Joombas)</td>\n",
       "    </tr>\n",
       "    <tr>\n",
       "      <th>5</th>\n",
       "      <td>방탄소년단</td>\n",
       "      <td>잠시</td>\n",
       "      <td>[매번 같은 하루들 중에\\n너를 만날 때 가장 난 행복해\\n매번 다른 일상들 속에\\...</td>\n",
       "      <td>SUGA</td>\n",
       "    </tr>\n",
       "    <tr>\n",
       "      <th>...</th>\n",
       "      <td>...</td>\n",
       "      <td>...</td>\n",
       "      <td>...</td>\n",
       "      <td>...</td>\n",
       "    </tr>\n",
       "    <tr>\n",
       "      <th>309</th>\n",
       "      <td>방탄소년단</td>\n",
       "      <td>We Are Bulletproof PT.2</td>\n",
       "      <td>[What 이리 내놔 \\nWhat 긴장해 다 \\nWhat 끝판대장 \\nWhat We...</td>\n",
       "      <td>신동혁</td>\n",
       "    </tr>\n",
       "    <tr>\n",
       "      <th>310</th>\n",
       "      <td>방탄소년단</td>\n",
       "      <td>Skit : Circle Room Talk</td>\n",
       "      <td>[랩몬스터: 대박이었다니까 그때는 그게\\n\\n제이홉: 2006년\\n\\n랩몬스터: F...</td>\n",
       "      <td>Pdogg</td>\n",
       "    </tr>\n",
       "    <tr>\n",
       "      <th>311</th>\n",
       "      <td>방탄소년단</td>\n",
       "      <td>No More Dream</td>\n",
       "      <td>[얌마 니 꿈은 뭐니\\n얌마 니 꿈은 뭐니\\n얌마 니 꿈은 뭐니\\n니 꿈은 겨우 그...</td>\n",
       "      <td>Supreme Boi</td>\n",
       "    </tr>\n",
       "    <tr>\n",
       "      <th>313</th>\n",
       "      <td>방탄소년단</td>\n",
       "      <td>좋아요</td>\n",
       "      <td>[Wanna be loved\\nDon't wanna be fool wanna \\nb...</td>\n",
       "      <td>Slow Rabbit</td>\n",
       "    </tr>\n",
       "    <tr>\n",
       "      <th>314</th>\n",
       "      <td>방탄소년단</td>\n",
       "      <td>Outro : Circle Room Cypher</td>\n",
       "      <td>[내 이름은 SUGA  \\n다른 래퍼들은 전부 내 뒤에  \\n오늘도 쌔끈한 이 비트...</td>\n",
       "      <td>j-hope</td>\n",
       "    </tr>\n",
       "  </tbody>\n",
       "</table>\n",
       "<p>231 rows × 4 columns</p>\n",
       "</div>"
      ],
      "text/plain": [
       "    singer                        song  \\\n",
       "0    방탄소년단    Dynamite (Holiday Remix)   \n",
       "1    방탄소년단                Life Goes On   \n",
       "2    방탄소년단                 내 방을 여행하는 법   \n",
       "3    방탄소년단                 Blue & Grey   \n",
       "5    방탄소년단                          잠시   \n",
       "..     ...                         ...   \n",
       "309  방탄소년단     We Are Bulletproof PT.2   \n",
       "310  방탄소년단     Skit : Circle Room Talk   \n",
       "311  방탄소년단               No More Dream   \n",
       "313  방탄소년단                         좋아요   \n",
       "314  방탄소년단  Outro : Circle Room Cypher   \n",
       "\n",
       "                                                lyrics  \\\n",
       "0    [Cos ah ah I’m in the stars tonight\\n\\nShoes o...   \n",
       "1    [어느 날 세상이 멈췄어\\n아무런 예고도 하나 없이\\n봄은 기다림을 몰라서\\n눈치 ...   \n",
       "2    [떠나볼까 let me fly to my\\n시선을 낮추고 어디든 막 zoom\\n지금...   \n",
       "3    [Where is my angel\\n하루의 끝을 드리운\\nSomeone come a...   \n",
       "5    [매번 같은 하루들 중에\\n너를 만날 때 가장 난 행복해\\n매번 다른 일상들 속에\\...   \n",
       "..                                                 ...   \n",
       "309  [What 이리 내놔 \\nWhat 긴장해 다 \\nWhat 끝판대장 \\nWhat We...   \n",
       "310  [랩몬스터: 대박이었다니까 그때는 그게\\n\\n제이홉: 2006년\\n\\n랩몬스터: F...   \n",
       "311  [얌마 니 꿈은 뭐니\\n얌마 니 꿈은 뭐니\\n얌마 니 꿈은 뭐니\\n니 꿈은 겨우 그...   \n",
       "313  [Wanna be loved\\nDon't wanna be fool wanna \\nb...   \n",
       "314  [내 이름은 SUGA  \\n다른 래퍼들은 전부 내 뒤에  \\n오늘도 쌔끈한 이 비트...   \n",
       "\n",
       "                     lyricist  \n",
       "0               David Stewart  \n",
       "1                       Pdogg  \n",
       "2            Cosmo's Midnight  \n",
       "3    Jisoo Park (153/Joombas)  \n",
       "5                        SUGA  \n",
       "..                        ...  \n",
       "309                       신동혁  \n",
       "310                     Pdogg  \n",
       "311               Supreme Boi  \n",
       "313               Slow Rabbit  \n",
       "314                    j-hope  \n",
       "\n",
       "[231 rows x 4 columns]"
      ]
     },
     "execution_count": 60,
     "metadata": {},
     "output_type": "execute_result"
    }
   ],
   "source": [
    "df"
   ]
  },
  {
   "cell_type": "code",
   "execution_count": 61,
   "metadata": {},
   "outputs": [],
   "source": [
    "# 데이터 전처리(한글만 남기기)\n",
    "df['lyrics']=df['lyrics'].map(lambda x :re.sub('[^가-힣\\n ]','',x))"
   ]
  },
  {
   "cell_type": "code",
   "execution_count": 62,
   "metadata": {},
   "outputs": [],
   "source": [
    "# 데이터 전처리(\\n중복제거 \\t제거)\n",
    "df['lyrics']=df['lyrics'].map(lambda x :re.sub('[\\n]+',' ',x))\n",
    "df['lyrics']=df['lyrics'].map(lambda x :re.sub('[\\t]','',x))"
   ]
  },
  {
   "cell_type": "code",
   "execution_count": 63,
   "metadata": {},
   "outputs": [],
   "source": [
    "# 띄어쓰기 한번으로 변경\n",
    "df['lyrics']=df['lyrics'].map(lambda x :re.sub(' +',' ',x))"
   ]
  },
  {
   "cell_type": "code",
   "execution_count": 64,
   "metadata": {},
   "outputs": [],
   "source": [
    "# 중복곡 제거\n",
    "df=df.drop_duplicates(['song'])"
   ]
  },
  {
   "cell_type": "code",
   "execution_count": 65,
   "metadata": {},
   "outputs": [],
   "source": [
    "# 데이터 늘리기(900개)\n",
    "dfs=[df,df,df,df,df]"
   ]
  },
  {
   "cell_type": "code",
   "execution_count": 66,
   "metadata": {},
   "outputs": [],
   "source": [
    "data=pd.concat(dfs)"
   ]
  },
  {
   "cell_type": "code",
   "execution_count": 67,
   "metadata": {},
   "outputs": [
    {
     "data": {
      "text/html": [
       "<div>\n",
       "<style scoped>\n",
       "    .dataframe tbody tr th:only-of-type {\n",
       "        vertical-align: middle;\n",
       "    }\n",
       "\n",
       "    .dataframe tbody tr th {\n",
       "        vertical-align: top;\n",
       "    }\n",
       "\n",
       "    .dataframe thead th {\n",
       "        text-align: right;\n",
       "    }\n",
       "</style>\n",
       "<table border=\"1\" class=\"dataframe\">\n",
       "  <thead>\n",
       "    <tr style=\"text-align: right;\">\n",
       "      <th></th>\n",
       "      <th>singer</th>\n",
       "      <th>song</th>\n",
       "      <th>lyrics</th>\n",
       "      <th>lyricist</th>\n",
       "    </tr>\n",
       "  </thead>\n",
       "  <tbody>\n",
       "    <tr>\n",
       "      <th>0</th>\n",
       "      <td>방탄소년단</td>\n",
       "      <td>Dynamite (Holiday Remix)</td>\n",
       "      <td></td>\n",
       "      <td>David Stewart</td>\n",
       "    </tr>\n",
       "    <tr>\n",
       "      <th>1</th>\n",
       "      <td>방탄소년단</td>\n",
       "      <td>Life Goes On</td>\n",
       "      <td>어느 날 세상이 멈췄어 아무런 예고도 하나 없이 봄은 기다림을 몰라서 눈치 없이 와...</td>\n",
       "      <td>Pdogg</td>\n",
       "    </tr>\n",
       "    <tr>\n",
       "      <th>2</th>\n",
       "      <td>방탄소년단</td>\n",
       "      <td>내 방을 여행하는 법</td>\n",
       "      <td>떠나볼까 시선을 낮추고 어디든 막 지금 나와 답답해 미치겠어 누가 저 시계를 좀 돌...</td>\n",
       "      <td>Cosmo's Midnight</td>\n",
       "    </tr>\n",
       "    <tr>\n",
       "      <th>3</th>\n",
       "      <td>방탄소년단</td>\n",
       "      <td>Blue &amp; Grey</td>\n",
       "      <td>하루의 끝을 드리운 지친 하루의 한숨뿐 사람들은 다 행복한가 봐 거울에 비친 눈물...</td>\n",
       "      <td>Jisoo Park (153/Joombas)</td>\n",
       "    </tr>\n",
       "    <tr>\n",
       "      <th>5</th>\n",
       "      <td>방탄소년단</td>\n",
       "      <td>잠시</td>\n",
       "      <td>매번 같은 하루들 중에 너를 만날 때 가장 난 행복해 매번 다른 일상들 속에 너란 ...</td>\n",
       "      <td>SUGA</td>\n",
       "    </tr>\n",
       "    <tr>\n",
       "      <th>...</th>\n",
       "      <td>...</td>\n",
       "      <td>...</td>\n",
       "      <td>...</td>\n",
       "      <td>...</td>\n",
       "    </tr>\n",
       "    <tr>\n",
       "      <th>309</th>\n",
       "      <td>방탄소년단</td>\n",
       "      <td>We Are Bulletproof PT.2</td>\n",
       "      <td>이리 내놔 긴장해 다 끝판대장 이름은 스케일은 전국 학교 대신 연습실에서 밤새 춤...</td>\n",
       "      <td>신동혁</td>\n",
       "    </tr>\n",
       "    <tr>\n",
       "      <th>310</th>\n",
       "      <td>방탄소년단</td>\n",
       "      <td>Skit : Circle Room Talk</td>\n",
       "      <td>랩몬스터 대박이었다니까 그때는 그게 제이홉 년 랩몬스터 진 최고였어 뮤직비디오 그거...</td>\n",
       "      <td>Pdogg</td>\n",
       "    </tr>\n",
       "    <tr>\n",
       "      <th>311</th>\n",
       "      <td>방탄소년단</td>\n",
       "      <td>No More Dream</td>\n",
       "      <td>얌마 니 꿈은 뭐니 얌마 니 꿈은 뭐니 얌마 니 꿈은 뭐니 니 꿈은 겨우 그거니 사...</td>\n",
       "      <td>Supreme Boi</td>\n",
       "    </tr>\n",
       "    <tr>\n",
       "      <th>313</th>\n",
       "      <td>방탄소년단</td>\n",
       "      <td>좋아요</td>\n",
       "      <td>너와의 니가 올리는 모든 사진마다 좋아요 남발하는 처음 보는 저 남자 누구야 아 ...</td>\n",
       "      <td>Slow Rabbit</td>\n",
       "    </tr>\n",
       "    <tr>\n",
       "      <th>314</th>\n",
       "      <td>방탄소년단</td>\n",
       "      <td>Outro : Circle Room Cypher</td>\n",
       "      <td>내 이름은 다른 래퍼들은 전부 내 뒤에 오늘도 쌔끈한 이 비트 위에 이리 갔다 저리...</td>\n",
       "      <td>j-hope</td>\n",
       "    </tr>\n",
       "  </tbody>\n",
       "</table>\n",
       "<p>900 rows × 4 columns</p>\n",
       "</div>"
      ],
      "text/plain": [
       "    singer                        song  \\\n",
       "0    방탄소년단    Dynamite (Holiday Remix)   \n",
       "1    방탄소년단                Life Goes On   \n",
       "2    방탄소년단                 내 방을 여행하는 법   \n",
       "3    방탄소년단                 Blue & Grey   \n",
       "5    방탄소년단                          잠시   \n",
       "..     ...                         ...   \n",
       "309  방탄소년단     We Are Bulletproof PT.2   \n",
       "310  방탄소년단     Skit : Circle Room Talk   \n",
       "311  방탄소년단               No More Dream   \n",
       "313  방탄소년단                         좋아요   \n",
       "314  방탄소년단  Outro : Circle Room Cypher   \n",
       "\n",
       "                                                lyrics  \\\n",
       "0                                                        \n",
       "1    어느 날 세상이 멈췄어 아무런 예고도 하나 없이 봄은 기다림을 몰라서 눈치 없이 와...   \n",
       "2    떠나볼까 시선을 낮추고 어디든 막 지금 나와 답답해 미치겠어 누가 저 시계를 좀 돌...   \n",
       "3     하루의 끝을 드리운 지친 하루의 한숨뿐 사람들은 다 행복한가 봐 거울에 비친 눈물...   \n",
       "5    매번 같은 하루들 중에 너를 만날 때 가장 난 행복해 매번 다른 일상들 속에 너란 ...   \n",
       "..                                                 ...   \n",
       "309   이리 내놔 긴장해 다 끝판대장 이름은 스케일은 전국 학교 대신 연습실에서 밤새 춤...   \n",
       "310  랩몬스터 대박이었다니까 그때는 그게 제이홉 년 랩몬스터 진 최고였어 뮤직비디오 그거...   \n",
       "311  얌마 니 꿈은 뭐니 얌마 니 꿈은 뭐니 얌마 니 꿈은 뭐니 니 꿈은 겨우 그거니 사...   \n",
       "313   너와의 니가 올리는 모든 사진마다 좋아요 남발하는 처음 보는 저 남자 누구야 아 ...   \n",
       "314  내 이름은 다른 래퍼들은 전부 내 뒤에 오늘도 쌔끈한 이 비트 위에 이리 갔다 저리...   \n",
       "\n",
       "                     lyricist  \n",
       "0               David Stewart  \n",
       "1                       Pdogg  \n",
       "2            Cosmo's Midnight  \n",
       "3    Jisoo Park (153/Joombas)  \n",
       "5                        SUGA  \n",
       "..                        ...  \n",
       "309                       신동혁  \n",
       "310                     Pdogg  \n",
       "311               Supreme Boi  \n",
       "313               Slow Rabbit  \n",
       "314                    j-hope  \n",
       "\n",
       "[900 rows x 4 columns]"
      ]
     },
     "execution_count": 67,
     "metadata": {},
     "output_type": "execute_result"
    }
   ],
   "source": [
    "data"
   ]
  },
  {
   "cell_type": "code",
   "execution_count": 68,
   "metadata": {},
   "outputs": [],
   "source": [
    "texts=data['lyrics']"
   ]
  },
  {
   "cell_type": "code",
   "execution_count": 69,
   "metadata": {},
   "outputs": [],
   "source": [
    "# str로 바꿈\n",
    "temp=[]\n",
    "for i in texts:\n",
    "    temp.append(str(i))"
   ]
  },
  {
   "cell_type": "code",
   "execution_count": 72,
   "metadata": {},
   "outputs": [],
   "source": [
    "text=str(temp)"
   ]
  },
  {
   "cell_type": "code",
   "execution_count": 74,
   "metadata": {},
   "outputs": [
    {
     "name": "stdout",
     "output_type": "stream",
     "text": [
      "코퍼스의 길이:  320\n"
     ]
    }
   ],
   "source": [
    "print('코퍼스의 길이: ', len(txt))"
   ]
  },
  {
   "cell_type": "code",
   "execution_count": 75,
   "metadata": {},
   "outputs": [
    {
     "name": "stdout",
     "output_type": "stream",
     "text": [
      "사용되고 있는 문자의 수: 1171\n"
     ]
    }
   ],
   "source": [
    "# 문자를 하나하나 읽어 들이고 ID 붙이기\n",
    "\n",
    "chars = sorted(list(set(text)))\n",
    "\n",
    "print('사용되고 있는 문자의 수:', len(chars))\n",
    "\n",
    "char_indices = dict((c, i) for i, c in enumerate(chars)) # 문자 → ID\n",
    "\n",
    "indices_char = dict((i, c) for i, c in enumerate(chars)) # ID → 문자"
   ]
  },
  {
   "cell_type": "code",
   "execution_count": 82,
   "metadata": {},
   "outputs": [],
   "source": [
    "# 텍스트를 maxlen개의 문자로 자르고 다음에 오는 문자 등록하기\n",
    "maxlen = 20 #\n",
    "step = 3 #\n",
    "sentences = []\n",
    "next_chars = []"
   ]
  },
  {
   "cell_type": "code",
   "execution_count": 83,
   "metadata": {},
   "outputs": [
    {
     "name": "stdout",
     "output_type": "stream",
     "text": [
      "학습할 구문의 수: 198509\n",
      "텍스트를 ID 벡터로 변환합니다...\n"
     ]
    }
   ],
   "source": [
    "for i in range(0, len(text) - maxlen, step):\n",
    "    sentences.append(text[i: i + maxlen])\n",
    "    next_chars.append(text[i + maxlen])\n",
    "print('학습할 구문의 수:', len(sentences))\n",
    "print('텍스트를 ID 벡터로 변환합니다...')\n",
    "X = np.zeros((len(sentences), maxlen, len(chars)), dtype=np.bool)\n",
    "y = np.zeros((len(sentences), len(chars)), dtype=np.bool)\n",
    "for i, sentence in enumerate(sentences):\n",
    "    for t, char in enumerate(sentence):\n",
    "        X[i, t, char_indices[char]] = 1\n",
    "    y[i, char_indices[next_chars[i]]] = 1"
   ]
  },
  {
   "cell_type": "code",
   "execution_count": 84,
   "metadata": {},
   "outputs": [],
   "source": [
    "#X"
   ]
  },
  {
   "cell_type": "code",
   "execution_count": 85,
   "metadata": {},
   "outputs": [
    {
     "name": "stdout",
     "output_type": "stream",
     "text": [
      "모델을 구축합니다...\n"
     ]
    }
   ],
   "source": [
    "# 모델 구축하기(LSTM)\n",
    "print('모델을 구축합니다...')\n",
    "model = Sequential()\n",
    "model.add(LSTM(128, input_shape=(maxlen, len(chars)))) #문자수\n",
    "model.add(Dense(len(chars)))\n",
    "model.add(Activation('softmax'))\n",
    "optimizer = RMSprop(lr=0.01)\n",
    "model.compile(loss='categorical_crossentropy', optimizer=optimizer)"
   ]
  },
  {
   "cell_type": "code",
   "execution_count": 86,
   "metadata": {},
   "outputs": [],
   "source": [
    "# 후보를 배열에서 꺼내기\n",
    "def sample(preds, temperature=1.0):\n",
    "    preds = np.asarray(preds).astype('float64')\n",
    "    preds = np.log(preds) / temperature\n",
    "    exp_preds = np.exp(preds)\n",
    "    preds = exp_preds / np.sum(exp_preds)\n",
    "    probas = np.random.multinomial(1, preds, 1)\n",
    "    return np.argmax(probas)"
   ]
  },
  {
   "cell_type": "code",
   "execution_count": 88,
   "metadata": {},
   "outputs": [
    {
     "name": "stdout",
     "output_type": "stream",
     "text": [
      "\n",
      "--------------------------------------------------\n",
      "반복 = 1\n",
      "1551/1551 [==============================] - 155s 100ms/step - loss: 1.3868\n",
      "\n",
      "--- 다양성 =  0.2\n",
      "--- 시드 = \"고 징징댈 땐 이미 늦었어 니 아리따\"\n",
      "고 징징댈 땐 이미 늦었어 니 아리따운 생각해 그때도 제이홉 어때 어금은 널 위해 이라 니가 없는 이 시소에 더 나도 내가 뭐 때문에 이 세대 속에서 아 노력의 그 모든 건 우연이 아니니까 우연이 아니니까 우린 끝에 알고 있어 이상에 이상에 가짜 해 니가 내 손리 가져라도 이 세대 내 심장은 널 위해 사랑 거짓 사랑 사랑 사랑 나도 다 너무 혼자나 다 어짜 사랑 나를 사랑 나도 사랑 나를 사랑 나를 사랑 나도 아닌 너무 아냐 너 때문 자다 가면 나인 거에 아니 너는 나에서 자꾸 돌아왔어 그냥 내가 랩몬스터 아니면 그거지 말고 어떤 사람 사람 사람 사람 사람 사람 사람\n",
      "\n",
      "--- 다양성 =  0.5\n",
      "--- 시드 = \"고 징징댈 땐 이미 늦었어 니 아리따\"\n",
      "고 징징댈 땐 이미 늦었어 니 아리따운 시작은 어느새 우리 부서님 나 그 위로 대로 날 위한 위에 이제 지금 때리어 그게 너라 내 맘이 그저 떨어지고 있기 전혀 나는 사람 니가 보면 웃는 나도 다시 이렇게 살불따고 있어 그만 다 왜 내 맘  모에 이 새 정국 아냐 하나 한 일 봐 내 자가 그리고 싶어 그 누가도 가지 마 손을 거야 그 도 누가 이 순간이 지나면 없었던 이 거야 어어냥 이 순간은 없지만 내 말을 믿는 거야 그 차가가 더 사랑이란 아프고 아픈 것 이별이란 아프고 더 아픈 것 같애 니가 없으면 나 같이 넌 아직 너무 너무 나도 살인 걸 ', '그때 우리가 \n",
      "\n",
      "--- 다양성 =  1.0\n",
      "--- 시드 = \"고 징징댈 땐 이미 늦었어 니 아리따\"\n",
      "고 징징댈 땐 이미 늦었어 니 아리따운 생각한 우리 음악 다시 매번 번을 오늘해 난 느껴억 세상에 지였에 감당을 향해 날 넌 나를 당겨 날 위로 한숨나 엄언를 헤목버린  시 좋은 심를 계처이 후입 내 한 번 내일은 어었게 어때가 괜날 손을 그 손 내장 잡아 생각은 어명심도 불고소터 매한 니 다 더 다 주를 줘 너를 잘봐 밖에 난 어때갈오만 아이고 또 다시 또 수혀대 방금 데 아냐 주겠어 비트 위 먹는는 발르었잖아요 마음이가고 알아고도 상대인 지한 날 얼마  누워 금라니까 질 져 만세 시야 얼마 새긴 너 그대해 최고 매이이지 않아요 하요아 모무 넘나 아를 사랑 나든 돌\n",
      "\n",
      "--- 다양성 =  1.2\n",
      "--- 시드 = \"고 징징댈 땐 이미 늦었어 니 아리따\"\n",
      "고 징징댈 땐 이미 늦었어 니 아리따운가걸까 허리을 또 무물단 전새 노카래서 오 노래 계속 좀 대투해 그 쓰부터 으짜 퍼이려하서 든 여제속 했는데요 진미로 거투온 만큼 알리도 보여 외쳐 봐 도 수가 없어 내갈 너 없는 마 이래서 내줘 테스니 엄마 어냥아스갈게 니 내주니 답해 난 뭔가 다면서 달던 눈으로 키버대 그래 행개 오무 네 행복해 저 잡신을 우든 쓰다면서 벌공들었어운 법정로 까지 나의 힙혀 위를 디어요 못해 널 파게 해요 알잖아 내 어상에 맘 가진파 내가 내 는 특대에별 놓디 자리를 열고했어 너의든부터 너의 먼맞'닿을 또 자리에 단 없어 받는 엔 침대 안 무렇게\n",
      "\n",
      "--------------------------------------------------\n",
      "반복 = 2\n",
      "1551/1551 [==============================] - 162s 105ms/step - loss: 1.2172\n",
      "\n",
      "--- 다양성 =  0.2\n",
      "--- 시드 = \"여기 다 다 들린다 제이홉 그래 안될\"\n",
      "여기 다 다 들린다 제이홉 그래 안될거 거오래 지금 나 그 보이지 나와 이리 무대에 따인 모 난 내 자체 살아 보여운 나 비트 위는 거자 여 버릴 안 비가 내 미안 속에서 지금 나 가치는 이 고통에서 너는 나의 마치 처럼 나이고 싶지만 바람 사람 사람 사람 사랑해지나 가라해 사랑이라 니가 사랑해줘 사랑해줘 아니니까 널 위해 이사 가니 정국 사이지 난 더 뛰게 말해 난 더 위험해 난 니가 꿈을 뭐 이 비트 니 새벽운 자꾸 보여 나는 그런 말은 어제가 난 더 뛰게 해줘 다시 난 멈출 수가 없어 또 난 어난 이게 너무 나를 사랑했다만 날 가워해 이 시간 따위는 게 아니 어\n",
      "\n",
      "--- 다양성 =  0.5\n",
      "--- 시드 = \"여기 다 다 들린다 제이홉 그래 안될\"\n",
      "여기 다 다 들린다 제이홉 그래 안될거져 그래요 내가 어디에 나 날 안 나는 날 보여 나 그 자 들은 어제가 내 이름 알고 있을 거야 그리자 지금 나 아이네 그래의 아파 너에게 노력 노래 아 너렇게 한마일 소리야 또 게 세상이 되기 위해 널 잠해 난 너는 나의 잠시 하지 너무 아래 널 보여 그래 했었던 이 시선 위험해걸 그냥 니 의미가 나의 길을 가든 건 너무 아름다운 너의 위손 기회했네 또 한 순간 네 또 한 발에도 난 못하겠어 거짓 만나 바람 더 지마가 아니 나를 울을 거야 그 보조고 인차 그런 대구로 어제든 여자야 ', ' ', ' ', ' ', ' ', ' '\n",
      "\n",
      "--- 다양성 =  1.0\n",
      "--- 시드 = \"여기 다 다 들린다 제이홉 그래 안될\"\n",
      "여기 다 다 들린다 제이홉 그래 안될거져 더 한 못해 랩 드는 건 엔 왜 난 널 운명을 간다는  해 신경 깨내 발음조질러 가볼 열어려 생화을 향네 날 쉬개서 헤매가 숨을 똑가지네 걱정은 살지 우리도 위었기 하군하네 너와 내리 망하는 잘 찾아요 맘이 힙란 속에점 내가 조던 사람 사랑인지 중 반실해 널 위해 넌 괜찮아 가나 사람들은네 내가 이 아니 아니면 누니 랩몬스터 아니 거인 걸 뒤로 되어 떠나 참 변하게 이 아니야 니일 할 가장 좀 겁나 나내다서 도 앞 머라 진 아직 너무 외쳐 너 없이 되고 있어 막 뭐가 네 빠져서 내 의 손길에 아파은 그래도 손을 감또 널 할게밤\n",
      "\n",
      "--- 다양성 =  1.2\n",
      "--- 시드 = \"여기 다 다 들린다 제이홉 그래 안될\"\n",
      "여기 다 다 들린다 제이홉 그래 안될거은 그과의 니 안신들의줘 내겐 바날에 많이 웃으면 너와 괜찮이 할 지는지 정을 우린 자미왔으 가지고 별 달려피트 그 분에 한 생각은 그린무저과는 누가 모든 니 모습 니 꿈 감정만 어었다면 무대 위에 애부를 감안인 맘들이 직했다고 퍼네가 모든 넌 알족처럼 없이 멋선버리어 떨어지네 도런 내가 어차라 화저 너무 화재어 제미홉 안 아써 것 같아 보여 써가생버두의 누가 겁나 멈임지 완전히 태도 허황를 심여과 게 일들을 멈아가버 뭐야 실을 웃던 울고 단러해 힙마 마 다 큰 볼까지 널 뛰어고 갈 수 없는 웃음 막 다도겠지 않퍼럼 싫어버통한 내\n",
      "\n",
      "--------------------------------------------------\n",
      "반복 = 3\n",
      "1551/1551 [==============================] - 161s 104ms/step - loss: 1.0725\n",
      "\n",
      "--- 다양성 =  0.2\n",
      "--- 시드 = \"러 외딴 섬 같은 나도 밝게 빛날 수\"\n",
      "러 외딴 섬 같은 나도 밝게 빛날 수 있을까 이렇게 또 위험해 널 원해 너를 원해 너의 모든 모태 다시 사랑해 나는 내가 함께 사는 내게 이 순간 어제 내가 나야 하루만 난 아직 너무 그대 다 나 아름다운 너 그때의 우린 그 손을 잡아할 ', ' 아직 우리의 그때처럼 나의 그때 기억이 해도 난 너를 원해 너의 인않을까 넌 나를 사랑해 난 넌 나의 바람 바로 넌 넌 지금 넌 그 이 어 손 대로 날 위한 행복 날 위한 나를 만나는 내가 가기 위해 내 말을 믿어지네 니가 없었네 가 기대야 이제 내 손을 잡아들 ', ' 이 세상이 뭐 랩은 아냐 랩몬스터 아니 랩몬스터 아니면\n",
      "\n",
      "--- 다양성 =  0.5\n",
      "--- 시드 = \"러 외딴 섬 같은 나도 밝게 빛날 수\"\n",
      "러 외딴 섬 같은 나도 밝게 빛날 수 있을까 이 니 네가 고오을 가서 수 있은 속에서 우린 달리 마지막도 말하지 마라고 저기도 말이는 비가 지하는 그 찾기 이 손 대로 들어가 서울 우린 이제 이 모든 게 새로운지이 지금 나의 길의 그때처럼 우린 처럼 너지 말도 여기 날 이라고 무거야 너를 원해 너무 그대는 너 없는 상대 사랑해사 사람 사람 사라지 난 이제 조심 너네 말고 너 없이 미울라냥 마 막 학음 같아 그래도 우연아 이리 건데 사랑 나를 사랑하지 너 아무 말도 안원해 아무 하늘을 거야 아가 하루로 조금만 아중이 어아니 어느 해제 난 하지 말했어 미울에 버침였 네 \n",
      "\n",
      "--- 다양성 =  1.0\n",
      "--- 시드 = \"러 외딴 섬 같은 나도 밝게 빛날 수\"\n",
      "러 외딴 섬 같은 나도 밝게 빛날 수 없을 수 있었을 안의 기상에서 말이지 조금 비티고 무물할 대로 날 가형아 세돌 기대도 절대만 아마 되게까 그래도 난 거야 너 때문에 너무 아니 난수기대 똑같했지 지금은 입수소새 너번 없었어 ', '그게 어하게커할게 막 질까지 넌 넌 날 떠대게 어원 나 여기 해라다는 이 순간 알어 난 사니라 너무 생각하지 마 넌 날 아무 되게 지금로 행복한 쓰았진 오늘은 우리나든 아별 세상 괜찮아 괜찮아 꿈을 네 새 랩하나도 알리에 다신가 똑같은 심이 아니다고 눈수하 어 막 속에 누구고 있나를 니 받의 시간을 간지 세생은 노래아듯 겁었네 내 집으로\n",
      "\n",
      "--- 다양성 =  1.2\n",
      "--- 시드 = \"러 외딴 섬 같은 나도 밝게 빛날 수\"\n",
      "러 외딴 섬 같은 나도 밝게 빛날 수  쓰부지 내가 야젠금이 비리니까 니가 비보이 당사이 불꽃 신지만수 난 번입이 친구들아 뭐라도 은 있을까지고 온라하다 내수요선은 반복하지 않아 이 봐 뷔 더 원하지 난 어쩌면 들 안 입가너 거단 살아가성이 세정들 다들의 끝에서가 삐를 웃음 힘으다 작제는 말을 믿는 께 바스 마 난 널 성공해가운 하이 잘 만요로 눈 난 돼 흔때로니 널 위해 이제 이 ', '모러 난 네게 살아들과 떼서니까 웠어 보이야 서겨 당신 신기니 앞에 나인 않던 이길 돌늘해대도 아주던 그시차들아 근데 때문에 간떨지 걸 놓지 말히 수가 없던 날 이라고 내 심장을 달\n",
      "\n",
      "--------------------------------------------------\n",
      "반복 = 4\n",
      "1551/1551 [==============================] - 160s 103ms/step - loss: 0.9598\n",
      "\n",
      "--- 다양성 =  0.2\n",
      "--- 시드 = \"우주가 처음 생겨났을 때부터 모든 건\"\n",
      "우주가 처음 생겨났을 때부터 모든 건 우연이 아니니까 우린 너이 아까지만 제이홉 아 꿈이 랩몬스터 그래 제이홉 아 그리 날 안날 달리면 어려야 도 가장 널 돌려 날 날 줘 달이더 우린 사랑하지 않아만 사랑하는 게 이별 내 손을 잡아줘 내 발로 더 마치 지금 나와 사랑 자 가장 느새 꿈이 되겠지 잘금이 서로 이리 난 너무 난 나같아 다시 난 그 비트 랩에게 이 모든 건 들이던 나를 사랑 사랑 눈을 찾아주는 게 너에 숨을 내는 내 발 살은 사랑 일상 속에 더 줄게 그건 니가 내 모든 건 대로 넌 내게 너무 나는 너의 마치 너의 마지 막 사라면 이 니가 아니면 그것도 말은\n",
      "\n",
      "--- 다양성 =  0.5\n",
      "--- 시드 = \"우주가 처음 생겨났을 때부터 모든 건\"\n",
      "우주가 처음 생겨났을 때부터 모든 건 정해 비 가는 니 들이 널 안한 아니 아니 지나 어린 것 같아서 다 잘 말 됐어 아니 그래 널기진 저 함께 그 우린 이 없어 이렇게 몸부다면 난 그래 지나면 성공을 거야 이젠 알겠줘 그만 너와 나 날개를 사랑 단 전 이 의 가는 너의 놈들의 그리고 그래 그런 해와 돌위한 향한 날 따라야까 더 못해 내 손을 잡아줘 괜찮아 손을 들아 우린 말을 말 그 손 날 될 거야 너 아젠 너 다 보다 널 잡해 난 너무 아나 되고 싶너고 매일 밤 문자 자리를 보면 웃는 나곳에 너와 우리가 그나 그리고 차은 우리가 되는 거야 차라리고 저다 너를 사라\n",
      "\n",
      "--- 다양성 =  1.0\n",
      "--- 시드 = \"우주가 처음 생겨났을 때부터 모든 건\"\n",
      "우주가 처음 생겨났을 때부터 모든 건 우연이 아름다고 생각해 나 아름다운 너 위해 아 내가 뭐고 거야 지민 추리에듯하여긴 너뿐비겠뿐이 은버린이 이 사랑의 피 소리서 얼제 넌 남와 꿈일 꿔져 이 니가 아이일 랩몬스터 너만 했지 않은 만은 사지의 니 정석 노는 거생면 저 수 없네 떨어나는 니 들이고 차리면의 싫어 한 비가는 입 스에 전부까 너파 안 해 사망해 난 또 파란 걸 다 더 몸으면 나 그저 정인 부모친여 태양짓게 좋아 다시 매일하게 랩하게 돼 와무 해야 내당나 우리가 너는 게 진짜 난 새끼끼 마 오게 더 당신 너를에게 지금 나의 원의 너에 부는 사람이 너나 좀 나\n",
      "\n",
      "--- 다양성 =  1.2\n",
      "--- 시드 = \"우주가 처음 생겨났을 때부터 모든 건\"\n",
      "우주가 처음 생겨났을 때부터 모든 건상들었는데 지생 아 건연 울고 외령 울로 손커겠 울리이 죄록 누네 바었지만 코한끝도 있어 그래 근데 다 색기가 안 여꼭내려카보무야 만에 게 진장아 호려져 가라면 니 피 에는 네 너고 노래의 계로 '까지 싹 군가 그시 열전해 다 이상이에 이린과 알면 헤매여  서해 나를 좋아요 손 남찮아 누구의 내 손을 잡아 방숨 질 소리워의 언제해 예상도 되게 어디만 시리 예술같은 백이 다리 습십한절할 운야다을 뛰어 누군가 뭐라는 나의야 모든 으니 근데 로진 세상이면 끝을 오고려 되려 해망려 할게 너로 시내들 가건을 건데 그적만 보여 인정마 할 말간\n"
     ]
    }
   ],
   "source": [
    "# 학습시키고 텍스트 생성하기 반복\n",
    "for iteration in range(1,5):\n",
    "    print()\n",
    "    print('-' * 50)\n",
    "    print('반복 =', iteration)\n",
    "    model.fit(X, y, batch_size=128, epochs=1) # \n",
    "    # 임의의 시작 텍스트 선택하기\n",
    "    start_index = random.randint(0, len(text) - maxlen - 1)\n",
    "    # 다양한 다양성의 문장 생성\n",
    "    for diversity in [0.2, 0.5, 1.0, 1.2]:\n",
    "        print()\n",
    "        print('--- 다양성 = ', diversity)\n",
    "        generated = ''\n",
    "        sentence = text[start_index: start_index + maxlen]\n",
    "        generated += sentence\n",
    "        print('--- 시드 = \"' + sentence + '\"')\n",
    "        sys.stdout.write(generated)\n",
    "        # 시드를 기반으로 텍스트 자동 생성\n",
    "        for i in range(300):\n",
    "            x = np.zeros((1, maxlen, len(chars)))\n",
    "            for t, char in enumerate(sentence):\n",
    "                x[0, t, char_indices[char]] = 1.\n",
    "            # 다음에 올 문자를 예측하기\n",
    "            preds = model.predict(x, verbose=0)[0]\n",
    "            next_index = sample(preds, diversity)\n",
    "            next_char = indices_char[next_index]\n",
    "            # 출력하기\n",
    "            generated += next_char\n",
    "            sentence = sentence[1:] + next_char\n",
    "            sys.stdout.write(next_char)\n",
    "            sys.stdout.flush()\n",
    "        print()"
   ]
  },
  {
   "cell_type": "code",
   "execution_count": null,
   "metadata": {},
   "outputs": [],
   "source": []
  }
 ],
 "metadata": {
  "kernelspec": {
   "display_name": "Python 3",
   "language": "python",
   "name": "python3"
  },
  "language_info": {
   "codemirror_mode": {
    "name": "ipython",
    "version": 3
   },
   "file_extension": ".py",
   "mimetype": "text/x-python",
   "name": "python",
   "nbconvert_exporter": "python",
   "pygments_lexer": "ipython3",
   "version": "3.8.3"
  }
 },
 "nbformat": 4,
 "nbformat_minor": 4
}
